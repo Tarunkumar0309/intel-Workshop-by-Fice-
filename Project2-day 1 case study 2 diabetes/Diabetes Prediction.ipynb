{
 "cells": [
  {
   "cell_type": "markdown",
   "id": "f68a850e",
   "metadata": {},
   "source": [
    "### Diabetes Prediction Model By using Deep Learning\n",
    "### Importing the Libraries"
   ]
  },
  {
   "cell_type": "code",
   "execution_count": 2,
   "id": "3acc22d9",
   "metadata": {},
   "outputs": [],
   "source": [
    "import numpy as np\n",
    "import pandas as pd\n",
    "import tensorflow as tf"
   ]
  },
  {
   "cell_type": "markdown",
   "id": "e3f53ef6",
   "metadata": {},
   "source": [
    "### for reading the dataset"
   ]
  },
  {
   "cell_type": "code",
   "execution_count": 3,
   "id": "0e7b97e7",
   "metadata": {},
   "outputs": [
    {
     "data": {
      "text/plain": [
       "'2.9.1'"
      ]
     },
     "execution_count": 3,
     "metadata": {},
     "output_type": "execute_result"
    }
   ],
   "source": [
    "tf.__version__"
   ]
  },
  {
   "cell_type": "code",
   "execution_count": 4,
   "id": "47dd35df",
   "metadata": {},
   "outputs": [
    {
     "data": {
      "text/html": [
       "<div>\n",
       "<style scoped>\n",
       "    .dataframe tbody tr th:only-of-type {\n",
       "        vertical-align: middle;\n",
       "    }\n",
       "\n",
       "    .dataframe tbody tr th {\n",
       "        vertical-align: top;\n",
       "    }\n",
       "\n",
       "    .dataframe thead th {\n",
       "        text-align: right;\n",
       "    }\n",
       "</style>\n",
       "<table border=\"1\" class=\"dataframe\">\n",
       "  <thead>\n",
       "    <tr style=\"text-align: right;\">\n",
       "      <th></th>\n",
       "      <th>Pregnancies</th>\n",
       "      <th>Glucose</th>\n",
       "      <th>BloodPressure</th>\n",
       "      <th>SkinThickness</th>\n",
       "      <th>Insulin</th>\n",
       "      <th>BMI</th>\n",
       "      <th>DiabetesPedigreeFunction</th>\n",
       "      <th>Age</th>\n",
       "      <th>Outcome</th>\n",
       "    </tr>\n",
       "  </thead>\n",
       "  <tbody>\n",
       "    <tr>\n",
       "      <th>count</th>\n",
       "      <td>768.000000</td>\n",
       "      <td>768.000000</td>\n",
       "      <td>768.000000</td>\n",
       "      <td>768.000000</td>\n",
       "      <td>768.000000</td>\n",
       "      <td>768.000000</td>\n",
       "      <td>768.000000</td>\n",
       "      <td>768.000000</td>\n",
       "      <td>768.000000</td>\n",
       "    </tr>\n",
       "    <tr>\n",
       "      <th>mean</th>\n",
       "      <td>3.845052</td>\n",
       "      <td>120.894531</td>\n",
       "      <td>69.105469</td>\n",
       "      <td>20.536458</td>\n",
       "      <td>79.799479</td>\n",
       "      <td>31.992578</td>\n",
       "      <td>0.471876</td>\n",
       "      <td>33.240885</td>\n",
       "      <td>0.348958</td>\n",
       "    </tr>\n",
       "    <tr>\n",
       "      <th>std</th>\n",
       "      <td>3.369578</td>\n",
       "      <td>31.972618</td>\n",
       "      <td>19.355807</td>\n",
       "      <td>15.952218</td>\n",
       "      <td>115.244002</td>\n",
       "      <td>7.884160</td>\n",
       "      <td>0.331329</td>\n",
       "      <td>11.760232</td>\n",
       "      <td>0.476951</td>\n",
       "    </tr>\n",
       "    <tr>\n",
       "      <th>min</th>\n",
       "      <td>0.000000</td>\n",
       "      <td>0.000000</td>\n",
       "      <td>0.000000</td>\n",
       "      <td>0.000000</td>\n",
       "      <td>0.000000</td>\n",
       "      <td>0.000000</td>\n",
       "      <td>0.078000</td>\n",
       "      <td>21.000000</td>\n",
       "      <td>0.000000</td>\n",
       "    </tr>\n",
       "    <tr>\n",
       "      <th>25%</th>\n",
       "      <td>1.000000</td>\n",
       "      <td>99.000000</td>\n",
       "      <td>62.000000</td>\n",
       "      <td>0.000000</td>\n",
       "      <td>0.000000</td>\n",
       "      <td>27.300000</td>\n",
       "      <td>0.243750</td>\n",
       "      <td>24.000000</td>\n",
       "      <td>0.000000</td>\n",
       "    </tr>\n",
       "    <tr>\n",
       "      <th>50%</th>\n",
       "      <td>3.000000</td>\n",
       "      <td>117.000000</td>\n",
       "      <td>72.000000</td>\n",
       "      <td>23.000000</td>\n",
       "      <td>30.500000</td>\n",
       "      <td>32.000000</td>\n",
       "      <td>0.372500</td>\n",
       "      <td>29.000000</td>\n",
       "      <td>0.000000</td>\n",
       "    </tr>\n",
       "    <tr>\n",
       "      <th>75%</th>\n",
       "      <td>6.000000</td>\n",
       "      <td>140.250000</td>\n",
       "      <td>80.000000</td>\n",
       "      <td>32.000000</td>\n",
       "      <td>127.250000</td>\n",
       "      <td>36.600000</td>\n",
       "      <td>0.626250</td>\n",
       "      <td>41.000000</td>\n",
       "      <td>1.000000</td>\n",
       "    </tr>\n",
       "    <tr>\n",
       "      <th>max</th>\n",
       "      <td>17.000000</td>\n",
       "      <td>199.000000</td>\n",
       "      <td>122.000000</td>\n",
       "      <td>99.000000</td>\n",
       "      <td>846.000000</td>\n",
       "      <td>67.100000</td>\n",
       "      <td>2.420000</td>\n",
       "      <td>81.000000</td>\n",
       "      <td>1.000000</td>\n",
       "    </tr>\n",
       "  </tbody>\n",
       "</table>\n",
       "</div>"
      ],
      "text/plain": [
       "       Pregnancies     Glucose  BloodPressure  SkinThickness     Insulin  \\\n",
       "count   768.000000  768.000000     768.000000     768.000000  768.000000   \n",
       "mean      3.845052  120.894531      69.105469      20.536458   79.799479   \n",
       "std       3.369578   31.972618      19.355807      15.952218  115.244002   \n",
       "min       0.000000    0.000000       0.000000       0.000000    0.000000   \n",
       "25%       1.000000   99.000000      62.000000       0.000000    0.000000   \n",
       "50%       3.000000  117.000000      72.000000      23.000000   30.500000   \n",
       "75%       6.000000  140.250000      80.000000      32.000000  127.250000   \n",
       "max      17.000000  199.000000     122.000000      99.000000  846.000000   \n",
       "\n",
       "              BMI  DiabetesPedigreeFunction         Age     Outcome  \n",
       "count  768.000000                768.000000  768.000000  768.000000  \n",
       "mean    31.992578                  0.471876   33.240885    0.348958  \n",
       "std      7.884160                  0.331329   11.760232    0.476951  \n",
       "min      0.000000                  0.078000   21.000000    0.000000  \n",
       "25%     27.300000                  0.243750   24.000000    0.000000  \n",
       "50%     32.000000                  0.372500   29.000000    0.000000  \n",
       "75%     36.600000                  0.626250   41.000000    1.000000  \n",
       "max     67.100000                  2.420000   81.000000    1.000000  "
      ]
     },
     "execution_count": 4,
     "metadata": {},
     "output_type": "execute_result"
    }
   ],
   "source": [
    "dataset=pd.read_csv(\"diabetes.csv\")\n",
    "dataset.describe()"
   ]
  },
  {
   "cell_type": "code",
   "execution_count": 5,
   "id": "7e870bde",
   "metadata": {},
   "outputs": [
    {
     "data": {
      "text/html": [
       "<div>\n",
       "<style scoped>\n",
       "    .dataframe tbody tr th:only-of-type {\n",
       "        vertical-align: middle;\n",
       "    }\n",
       "\n",
       "    .dataframe tbody tr th {\n",
       "        vertical-align: top;\n",
       "    }\n",
       "\n",
       "    .dataframe thead th {\n",
       "        text-align: right;\n",
       "    }\n",
       "</style>\n",
       "<table border=\"1\" class=\"dataframe\">\n",
       "  <thead>\n",
       "    <tr style=\"text-align: right;\">\n",
       "      <th></th>\n",
       "      <th>Pregnancies</th>\n",
       "      <th>Glucose</th>\n",
       "      <th>BloodPressure</th>\n",
       "      <th>SkinThickness</th>\n",
       "      <th>Insulin</th>\n",
       "      <th>BMI</th>\n",
       "      <th>DiabetesPedigreeFunction</th>\n",
       "      <th>Age</th>\n",
       "      <th>Outcome</th>\n",
       "    </tr>\n",
       "  </thead>\n",
       "  <tbody>\n",
       "    <tr>\n",
       "      <th>0</th>\n",
       "      <td>6</td>\n",
       "      <td>148</td>\n",
       "      <td>72</td>\n",
       "      <td>35</td>\n",
       "      <td>0</td>\n",
       "      <td>33.6</td>\n",
       "      <td>0.627</td>\n",
       "      <td>50</td>\n",
       "      <td>1</td>\n",
       "    </tr>\n",
       "    <tr>\n",
       "      <th>1</th>\n",
       "      <td>1</td>\n",
       "      <td>85</td>\n",
       "      <td>66</td>\n",
       "      <td>29</td>\n",
       "      <td>0</td>\n",
       "      <td>26.6</td>\n",
       "      <td>0.351</td>\n",
       "      <td>31</td>\n",
       "      <td>0</td>\n",
       "    </tr>\n",
       "    <tr>\n",
       "      <th>2</th>\n",
       "      <td>8</td>\n",
       "      <td>183</td>\n",
       "      <td>64</td>\n",
       "      <td>0</td>\n",
       "      <td>0</td>\n",
       "      <td>23.3</td>\n",
       "      <td>0.672</td>\n",
       "      <td>32</td>\n",
       "      <td>1</td>\n",
       "    </tr>\n",
       "    <tr>\n",
       "      <th>3</th>\n",
       "      <td>1</td>\n",
       "      <td>89</td>\n",
       "      <td>66</td>\n",
       "      <td>23</td>\n",
       "      <td>94</td>\n",
       "      <td>28.1</td>\n",
       "      <td>0.167</td>\n",
       "      <td>21</td>\n",
       "      <td>0</td>\n",
       "    </tr>\n",
       "    <tr>\n",
       "      <th>4</th>\n",
       "      <td>0</td>\n",
       "      <td>137</td>\n",
       "      <td>40</td>\n",
       "      <td>35</td>\n",
       "      <td>168</td>\n",
       "      <td>43.1</td>\n",
       "      <td>2.288</td>\n",
       "      <td>33</td>\n",
       "      <td>1</td>\n",
       "    </tr>\n",
       "  </tbody>\n",
       "</table>\n",
       "</div>"
      ],
      "text/plain": [
       "   Pregnancies  Glucose  BloodPressure  SkinThickness  Insulin   BMI  \\\n",
       "0            6      148             72             35        0  33.6   \n",
       "1            1       85             66             29        0  26.6   \n",
       "2            8      183             64              0        0  23.3   \n",
       "3            1       89             66             23       94  28.1   \n",
       "4            0      137             40             35      168  43.1   \n",
       "\n",
       "   DiabetesPedigreeFunction  Age  Outcome  \n",
       "0                     0.627   50        1  \n",
       "1                     0.351   31        0  \n",
       "2                     0.672   32        1  \n",
       "3                     0.167   21        0  \n",
       "4                     2.288   33        1  "
      ]
     },
     "execution_count": 5,
     "metadata": {},
     "output_type": "execute_result"
    }
   ],
   "source": [
    "dataset.head()"
   ]
  },
  {
   "cell_type": "markdown",
   "id": "7191da18",
   "metadata": {},
   "source": [
    "### Declaration of dependent and independent variables"
   ]
  },
  {
   "cell_type": "code",
   "execution_count": 9,
   "id": "e42475f1",
   "metadata": {},
   "outputs": [
    {
     "name": "stdout",
     "output_type": "stream",
     "text": [
      "[[  6.    148.     72.    ...  33.6     0.627  50.   ]\n",
      " [  1.     85.     66.    ...  26.6     0.351  31.   ]\n",
      " [  8.    183.     64.    ...  23.3     0.672  32.   ]\n",
      " ...\n",
      " [  5.    121.     72.    ...  26.2     0.245  30.   ]\n",
      " [  1.    126.     60.    ...  30.1     0.349  47.   ]\n",
      " [  1.     93.     70.    ...  30.4     0.315  23.   ]]\n"
     ]
    }
   ],
   "source": [
    "x=dataset.iloc[:, 0:-1].values\n",
    "y=dataset.iloc[:, -1].values\n",
    "print(x)"
   ]
  },
  {
   "cell_type": "code",
   "execution_count": 8,
   "id": "aeabf997",
   "metadata": {},
   "outputs": [
    {
     "name": "stdout",
     "output_type": "stream",
     "text": [
      "[1 0 1 0 1 0 1 0 1 1 0 1 0 1 1 1 1 1 0 1 0 0 1 1 1 1 1 0 0 0 0 1 0 0 0 0 0\n",
      " 1 1 1 0 0 0 1 0 1 0 0 1 0 0 0 0 1 0 0 1 0 0 0 0 1 0 0 1 0 1 0 0 0 1 0 1 0\n",
      " 0 0 0 0 1 0 0 0 0 0 1 0 0 0 1 0 0 0 0 1 0 0 0 0 0 1 1 0 0 0 0 0 0 0 0 1 1\n",
      " 1 0 0 1 1 1 0 0 0 1 0 0 0 1 1 0 0 1 1 1 1 1 0 0 0 0 0 0 0 0 0 0 1 0 0 0 0\n",
      " 0 0 0 0 1 0 1 1 0 0 0 1 0 0 0 0 1 1 0 0 0 0 1 1 0 0 0 1 0 1 0 1 0 0 0 0 0\n",
      " 1 1 1 1 1 0 0 1 1 0 1 0 1 1 1 0 0 0 0 0 0 1 1 0 1 0 0 0 1 1 1 1 0 1 1 1 1\n",
      " 0 0 0 0 0 1 0 0 1 1 0 0 0 1 1 1 1 0 0 0 1 1 0 1 0 0 0 0 0 0 0 0 1 1 0 0 0\n",
      " 1 0 1 0 0 1 0 1 0 0 1 1 0 0 0 0 0 1 0 0 0 1 0 0 1 1 0 0 1 0 0 0 1 1 1 0 0\n",
      " 1 0 1 0 1 1 0 1 0 0 1 0 1 1 0 0 1 0 1 0 0 1 0 1 0 1 1 1 0 0 1 0 1 0 0 0 1\n",
      " 0 0 0 0 1 1 1 0 0 0 0 0 0 0 0 0 1 0 0 0 0 0 1 1 1 0 1 1 0 0 1 0 0 1 0 0 1\n",
      " 1 0 0 0 0 1 0 0 1 0 0 0 0 0 0 0 1 1 1 0 0 1 0 0 1 0 0 1 0 1 1 0 1 0 1 0 1\n",
      " 0 1 1 0 0 0 0 1 1 0 1 0 1 0 0 0 0 1 1 0 1 0 1 0 0 0 0 0 1 0 0 0 0 1 0 0 1\n",
      " 1 1 0 0 1 0 0 1 0 0 0 1 0 0 1 0 0 0 0 0 0 0 0 0 1 0 0 0 0 0 0 0 1 0 0 0 1\n",
      " 0 0 0 1 1 0 0 0 0 0 0 0 1 0 0 0 0 1 0 0 0 1 0 0 0 1 0 0 0 1 0 0 0 0 1 1 0\n",
      " 0 0 0 0 0 1 0 0 0 0 0 0 0 0 0 0 0 1 0 0 0 1 1 1 1 0 0 1 1 0 0 0 0 0 0 0 0\n",
      " 0 0 0 0 0 1 1 0 0 0 0 0 0 0 1 0 0 0 0 0 0 0 1 0 1 1 0 0 0 1 0 1 0 1 0 1 0\n",
      " 1 0 0 1 0 0 1 0 0 0 0 1 1 0 1 0 0 0 0 1 1 0 1 0 0 0 1 1 0 0 0 0 0 0 0 0 0\n",
      " 0 1 0 0 0 0 1 0 0 1 0 0 0 1 0 0 0 1 1 1 0 0 0 0 0 0 1 0 0 0 1 0 1 1 1 1 0\n",
      " 1 1 0 0 0 0 0 0 0 1 1 0 1 0 0 1 0 1 0 0 0 0 0 1 0 1 0 1 0 1 1 0 0 0 0 1 1\n",
      " 0 0 0 1 0 1 1 0 0 1 0 0 1 1 0 0 1 0 0 1 0 0 0 0 0 0 0 1 1 1 0 0 0 0 0 0 1\n",
      " 1 0 0 1 0 0 1 0 1 1 1 0 0 1 1 1 0 1 0 1 0 1 0 0 0 0 1 0]\n"
     ]
    }
   ],
   "source": [
    "print(y)"
   ]
  },
  {
   "cell_type": "markdown",
   "id": "aa0746d3",
   "metadata": {},
   "source": [
    "###### There is no encoding required as all the dataset attributes are in numeric type"
   ]
  },
  {
   "cell_type": "markdown",
   "id": "57ada266",
   "metadata": {},
   "source": [
    "### Splitting the dataset into training and testing sets"
   ]
  },
  {
   "cell_type": "code",
   "execution_count": 147,
   "id": "1f650e74",
   "metadata": {},
   "outputs": [],
   "source": [
    "\n",
    "from sklearn.model_selection import train_test_split\n",
    "X_train, X_test, y_train, y_test = train_test_split(x, y, test_size = 0.2, random_state = 0)"
   ]
  },
  {
   "cell_type": "markdown",
   "id": "385bf8da",
   "metadata": {},
   "source": [
    "### Now Feature Scaling of required attributes"
   ]
  },
  {
   "cell_type": "code",
   "execution_count": 148,
   "id": "6124b9df",
   "metadata": {},
   "outputs": [],
   "source": [
    "from sklearn.preprocessing import StandardScaler\n",
    "sc = StandardScaler()\n",
    "X_train = sc.fit_transform(X_train)\n",
    "X_test = sc.transform(X_test)"
   ]
  },
  {
   "cell_type": "code",
   "execution_count": 149,
   "id": "3ae4fe22",
   "metadata": {},
   "outputs": [
    {
     "data": {
      "text/plain": [
       "array([[ 0.90832902,  0.91569367,  0.44912368, ...,  0.37852648,\n",
       "         0.67740401,  1.69955804],\n",
       "       [ 0.03644676, -0.75182191, -0.47230103, ..., -0.50667229,\n",
       "        -0.07049698, -0.96569189],\n",
       "       [-1.12606292,  1.38763205,  1.06340683, ...,  2.54094063,\n",
       "        -0.11855487, -0.88240283],\n",
       "       ...,\n",
       "       [ 0.03644676, -0.84620959, -0.21634972, ..., -0.94927168,\n",
       "        -0.95656442, -1.04898095],\n",
       "       [ 2.0708387 , -1.12937261,  0.24436264, ..., -0.26640405,\n",
       "        -0.50001442,  0.11706589],\n",
       "       [ 0.32707418,  0.47521786,  0.65388473, ..., -4.07275877,\n",
       "         0.52121586,  2.94889395]])"
      ]
     },
     "execution_count": 149,
     "metadata": {},
     "output_type": "execute_result"
    }
   ],
   "source": [
    "X_train"
   ]
  },
  {
   "cell_type": "markdown",
   "id": "704520ce",
   "metadata": {},
   "source": [
    "## Building the ANN"
   ]
  },
  {
   "cell_type": "markdown",
   "id": "a9426dad",
   "metadata": {},
   "source": [
    "### Now initiating the ANN"
   ]
  },
  {
   "cell_type": "code",
   "execution_count": 150,
   "id": "bbd1c511",
   "metadata": {},
   "outputs": [],
   "source": [
    "model=tf.keras.models.Sequential()"
   ]
  },
  {
   "cell_type": "markdown",
   "id": "432cf398",
   "metadata": {},
   "source": [
    "## Adding input layer"
   ]
  },
  {
   "cell_type": "code",
   "execution_count": 151,
   "id": "b989058e",
   "metadata": {},
   "outputs": [],
   "source": [
    "model.add(tf.keras.layers.Dense(units=10, activation='relu'))"
   ]
  },
  {
   "cell_type": "markdown",
   "id": "d2939491",
   "metadata": {},
   "source": [
    "### Adding the second hidden layer"
   ]
  },
  {
   "cell_type": "code",
   "execution_count": 152,
   "id": "d8598879",
   "metadata": {},
   "outputs": [],
   "source": [
    "model.add(tf.keras.layers.Dense(units=10, activation='relu'))"
   ]
  },
  {
   "cell_type": "markdown",
   "id": "ab996f61",
   "metadata": {},
   "source": [
    "### Adding the output layer"
   ]
  },
  {
   "cell_type": "code",
   "execution_count": 153,
   "id": "16872e5a",
   "metadata": {},
   "outputs": [],
   "source": [
    "model.add(tf.keras.layers.Dense(units=1, activation='sigmoid'))"
   ]
  },
  {
   "cell_type": "markdown",
   "id": "188d3521",
   "metadata": {},
   "source": [
    "### Training the ANN\n",
    "#### Compilation of the ANN"
   ]
  },
  {
   "cell_type": "code",
   "execution_count": 154,
   "id": "855ad7a7",
   "metadata": {},
   "outputs": [],
   "source": [
    "model.compile(optimizer = 'adam', loss = 'binary_crossentropy', metrics = ['accuracy'])"
   ]
  },
  {
   "cell_type": "markdown",
   "id": "273972c9",
   "metadata": {},
   "source": [
    "### Training of the ANN in the TRAINING SET"
   ]
  },
  {
   "cell_type": "code",
   "execution_count": 155,
   "id": "81e5ec1a",
   "metadata": {},
   "outputs": [
    {
     "data": {
      "text/plain": [
       "(614, 8)"
      ]
     },
     "execution_count": 155,
     "metadata": {},
     "output_type": "execute_result"
    }
   ],
   "source": [
    "X_train.shape"
   ]
  },
  {
   "cell_type": "code",
   "execution_count": 156,
   "id": "4afc6e57",
   "metadata": {},
   "outputs": [
    {
     "name": "stdout",
     "output_type": "stream",
     "text": [
      "Epoch 1/51\n",
      "77/77 [==============================] - 1s 1ms/step - loss: 0.7652 - accuracy: 0.4642\n",
      "Epoch 2/51\n",
      "77/77 [==============================] - 0s 1ms/step - loss: 0.6710 - accuracy: 0.6580\n",
      "Epoch 3/51\n",
      "77/77 [==============================] - 0s 1ms/step - loss: 0.6258 - accuracy: 0.7068\n",
      "Epoch 4/51\n",
      "77/77 [==============================] - 0s 1ms/step - loss: 0.5884 - accuracy: 0.7296\n",
      "Epoch 5/51\n",
      "77/77 [==============================] - 0s 1ms/step - loss: 0.5536 - accuracy: 0.7394\n",
      "Epoch 6/51\n",
      "77/77 [==============================] - 0s 2ms/step - loss: 0.5256 - accuracy: 0.7557\n",
      "Epoch 7/51\n",
      "77/77 [==============================] - 0s 2ms/step - loss: 0.5065 - accuracy: 0.7638\n",
      "Epoch 8/51\n",
      "77/77 [==============================] - 0s 2ms/step - loss: 0.4944 - accuracy: 0.7524\n",
      "Epoch 9/51\n",
      "77/77 [==============================] - 0s 2ms/step - loss: 0.4863 - accuracy: 0.7541\n",
      "Epoch 10/51\n",
      "77/77 [==============================] - 0s 2ms/step - loss: 0.4815 - accuracy: 0.7524\n",
      "Epoch 11/51\n",
      "77/77 [==============================] - 0s 2ms/step - loss: 0.4768 - accuracy: 0.7590\n",
      "Epoch 12/51\n",
      "77/77 [==============================] - 0s 2ms/step - loss: 0.4738 - accuracy: 0.7687\n",
      "Epoch 13/51\n",
      "77/77 [==============================] - 0s 2ms/step - loss: 0.4718 - accuracy: 0.7671\n",
      "Epoch 14/51\n",
      "77/77 [==============================] - 0s 1ms/step - loss: 0.4714 - accuracy: 0.7638\n",
      "Epoch 15/51\n",
      "77/77 [==============================] - 0s 2ms/step - loss: 0.4674 - accuracy: 0.7590\n",
      "Epoch 16/51\n",
      "77/77 [==============================] - 0s 1ms/step - loss: 0.4657 - accuracy: 0.7638\n",
      "Epoch 17/51\n",
      "77/77 [==============================] - 0s 1ms/step - loss: 0.4627 - accuracy: 0.7687\n",
      "Epoch 18/51\n",
      "77/77 [==============================] - 0s 2ms/step - loss: 0.4621 - accuracy: 0.7704\n",
      "Epoch 19/51\n",
      "77/77 [==============================] - 0s 1ms/step - loss: 0.4598 - accuracy: 0.7671\n",
      "Epoch 20/51\n",
      "77/77 [==============================] - 0s 1ms/step - loss: 0.4578 - accuracy: 0.7736\n",
      "Epoch 21/51\n",
      "77/77 [==============================] - 0s 1ms/step - loss: 0.4570 - accuracy: 0.7785\n",
      "Epoch 22/51\n",
      "77/77 [==============================] - 0s 1ms/step - loss: 0.4551 - accuracy: 0.7769\n",
      "Epoch 23/51\n",
      "77/77 [==============================] - 0s 2ms/step - loss: 0.4537 - accuracy: 0.7720\n",
      "Epoch 24/51\n",
      "77/77 [==============================] - 0s 1ms/step - loss: 0.4536 - accuracy: 0.7720\n",
      "Epoch 25/51\n",
      "77/77 [==============================] - 0s 2ms/step - loss: 0.4521 - accuracy: 0.7769\n",
      "Epoch 26/51\n",
      "77/77 [==============================] - 0s 1ms/step - loss: 0.4499 - accuracy: 0.7736\n",
      "Epoch 27/51\n",
      "77/77 [==============================] - 0s 1ms/step - loss: 0.4491 - accuracy: 0.7866\n",
      "Epoch 28/51\n",
      "77/77 [==============================] - 0s 2ms/step - loss: 0.4486 - accuracy: 0.7785\n",
      "Epoch 29/51\n",
      "77/77 [==============================] - 0s 2ms/step - loss: 0.4466 - accuracy: 0.7801\n",
      "Epoch 30/51\n",
      "77/77 [==============================] - 0s 2ms/step - loss: 0.4462 - accuracy: 0.7834\n",
      "Epoch 31/51\n",
      "77/77 [==============================] - 0s 1ms/step - loss: 0.4461 - accuracy: 0.7915\n",
      "Epoch 32/51\n",
      "77/77 [==============================] - 0s 2ms/step - loss: 0.4443 - accuracy: 0.7801\n",
      "Epoch 33/51\n",
      "77/77 [==============================] - 0s 1ms/step - loss: 0.4419 - accuracy: 0.7769\n",
      "Epoch 34/51\n",
      "77/77 [==============================] - 0s 2ms/step - loss: 0.4416 - accuracy: 0.7785\n",
      "Epoch 35/51\n",
      "77/77 [==============================] - 0s 1ms/step - loss: 0.4406 - accuracy: 0.7818\n",
      "Epoch 36/51\n",
      "77/77 [==============================] - 0s 1ms/step - loss: 0.4401 - accuracy: 0.7866\n",
      "Epoch 37/51\n",
      "77/77 [==============================] - 0s 2ms/step - loss: 0.4392 - accuracy: 0.7850\n",
      "Epoch 38/51\n",
      "77/77 [==============================] - 0s 2ms/step - loss: 0.4378 - accuracy: 0.7818\n",
      "Epoch 39/51\n",
      "77/77 [==============================] - 0s 1ms/step - loss: 0.4366 - accuracy: 0.7899\n",
      "Epoch 40/51\n",
      "77/77 [==============================] - 0s 1ms/step - loss: 0.4355 - accuracy: 0.7883\n",
      "Epoch 41/51\n",
      "77/77 [==============================] - 0s 1ms/step - loss: 0.4349 - accuracy: 0.7932\n",
      "Epoch 42/51\n",
      "77/77 [==============================] - 0s 1ms/step - loss: 0.4333 - accuracy: 0.7883\n",
      "Epoch 43/51\n",
      "77/77 [==============================] - 0s 1ms/step - loss: 0.4314 - accuracy: 0.7932\n",
      "Epoch 44/51\n",
      "77/77 [==============================] - 0s 1ms/step - loss: 0.4311 - accuracy: 0.7932\n",
      "Epoch 45/51\n",
      "77/77 [==============================] - 0s 1ms/step - loss: 0.4285 - accuracy: 0.7997\n",
      "Epoch 46/51\n",
      "77/77 [==============================] - 0s 2ms/step - loss: 0.4290 - accuracy: 0.7899\n",
      "Epoch 47/51\n",
      "77/77 [==============================] - 0s 2ms/step - loss: 0.4272 - accuracy: 0.7948\n",
      "Epoch 48/51\n",
      "77/77 [==============================] - 0s 2ms/step - loss: 0.4270 - accuracy: 0.7948\n",
      "Epoch 49/51\n",
      "77/77 [==============================] - 0s 2ms/step - loss: 0.4262 - accuracy: 0.7932\n",
      "Epoch 50/51\n",
      "77/77 [==============================] - 0s 2ms/step - loss: 0.4242 - accuracy: 0.7964\n",
      "Epoch 51/51\n",
      "77/77 [==============================] - 0s 2ms/step - loss: 0.4217 - accuracy: 0.7997\n"
     ]
    },
    {
     "data": {
      "text/plain": [
       "<keras.callbacks.History at 0x171c8967d90>"
      ]
     },
     "execution_count": 156,
     "metadata": {},
     "output_type": "execute_result"
    }
   ],
   "source": [
    "model.fit(X_train, y_train, batch_size=8, epochs=51)"
   ]
  },
  {
   "cell_type": "markdown",
   "id": "5530266e",
   "metadata": {},
   "source": [
    "### Predicting the Test set results "
   ]
  },
  {
   "cell_type": "code",
   "execution_count": 157,
   "id": "487d68e7",
   "metadata": {},
   "outputs": [
    {
     "name": "stdout",
     "output_type": "stream",
     "text": [
      "5/5 [==============================] - 0s 2ms/step\n"
     ]
    }
   ],
   "source": [
    "y_pred=model.predict(X_test)\n"
   ]
  },
  {
   "cell_type": "code",
   "execution_count": 158,
   "id": "92ba84a5",
   "metadata": {},
   "outputs": [],
   "source": [
    "y_pred=(y_pred>0.5)"
   ]
  },
  {
   "cell_type": "code",
   "execution_count": 159,
   "id": "d658ea20",
   "metadata": {},
   "outputs": [
    {
     "data": {
      "text/plain": [
       "array([[94, 13],\n",
       "       [19, 28]], dtype=int64)"
      ]
     },
     "execution_count": 159,
     "metadata": {},
     "output_type": "execute_result"
    }
   ],
   "source": [
    "from sklearn.metrics import confusion_matrix, accuracy_score\n",
    "cm=confusion_matrix(y_test, y_pred)\n",
    "cm"
   ]
  },
  {
   "cell_type": "code",
   "execution_count": 160,
   "id": "943b96e9",
   "metadata": {},
   "outputs": [
    {
     "data": {
      "text/plain": [
       "0.7922077922077922"
      ]
     },
     "execution_count": 160,
     "metadata": {},
     "output_type": "execute_result"
    }
   ],
   "source": [
    "accuracy_score(y_test, y_pred)"
   ]
  },
  {
   "cell_type": "markdown",
   "id": "0d7ecb8f",
   "metadata": {},
   "source": [
    "# Made by Tarun Kumar"
   ]
  },
  {
   "cell_type": "code",
   "execution_count": null,
   "id": "21de3efa",
   "metadata": {},
   "outputs": [],
   "source": []
  }
 ],
 "metadata": {
  "kernelspec": {
   "display_name": "Python 3 (ipykernel)",
   "language": "python",
   "name": "python3"
  },
  "language_info": {
   "codemirror_mode": {
    "name": "ipython",
    "version": 3
   },
   "file_extension": ".py",
   "mimetype": "text/x-python",
   "name": "python",
   "nbconvert_exporter": "python",
   "pygments_lexer": "ipython3",
   "version": "3.10.5"
  }
 },
 "nbformat": 4,
 "nbformat_minor": 5
}
