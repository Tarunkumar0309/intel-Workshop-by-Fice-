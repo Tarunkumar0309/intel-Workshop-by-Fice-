{
  "nbformat": 4,
  "nbformat_minor": 0,
  "metadata": {
    "colab": {
      "name": "VGG16.ipynb",
      "provenance": [],
      "collapsed_sections": []
    },
    "kernelspec": {
      "name": "python3",
      "display_name": "Python 3"
    },
    "accelerator": "GPU"
  },
  "cells": [
    {
      "cell_type": "code",
      "metadata": {
        "id": "59wjnj1gbisl",
        "colab": {
          "base_uri": "https://localhost:8080/"
        },
        "outputId": "4f49487d-ef65-46d3-8889-8f85c8c74bc5"
      },
      "source": [
        "from google.colab import drive\n",
        "drive.mount('/content/gdrive')\n",
        "root_path = 'gdrive/My Drive/Face Mask Dataset/' "
      ],
      "execution_count": 1,
      "outputs": [
        {
          "output_type": "stream",
          "name": "stdout",
          "text": [
            "Mounted at /content/gdrive\n"
          ]
        }
      ]
    },
    {
      "cell_type": "code",
      "source": [
        "import numpy as np\n",
        "import pandas as pd\n",
        "import matplotlib.pyplot as plt\n",
        "from sklearn.model_selection import train_test_split\n",
        "import os\n",
        "import shutil\n",
        "import glob\n",
        "import cv2\n",
        "import tensorflow as tf\n",
        "from tensorflow.keras.preprocessing.image import ImageDataGenerator\n",
        "from tensorflow.keras.applications import VGG16\n",
        "from tensorflow.keras.layers import AveragePooling2D\n",
        "from tensorflow.keras.layers import Dropout\n",
        "from tensorflow.keras.layers import Flatten\n",
        "from tensorflow.keras.layers import Dense\n",
        "from tensorflow.keras.layers import Input\n",
        "from tensorflow.keras.models import Model\n",
        "from tensorflow.keras.optimizers import Adam\n",
        "from tensorflow.keras.utils import to_categorical"
      ],
      "metadata": {
        "id": "avucBCh6PBb-"
      },
      "execution_count": 2,
      "outputs": []
    },
    {
      "cell_type": "code",
      "metadata": {
        "id": "fa_39vkdmYgh",
        "colab": {
          "base_uri": "https://localhost:8080/"
        },
        "outputId": "b9671e9b-1a92-4c61-e6ce-bc336703efae"
      },
      "source": [
        "baseModel = VGG16(weights=\"imagenet\", include_top = False,input_tensor=Input(shape=(224,224,3)))\n",
        "headModel = baseModel.output\n",
        "headModel = AveragePooling2D(pool_size=(7, 7))(headModel)\n",
        "headModel = Flatten(name=\"flatten\")(headModel)\n",
        "headModel = Dense(128, activation=\"relu\")(headModel)\n",
        "headModel = Dropout(0.5)(headModel)\n",
        "headModel = Dense(2, activation=\"softmax\")(headModel)\n",
        "\n",
        "\n",
        "model = Model(inputs=baseModel.input, outputs=headModel)\n",
        "for layer in baseModel.layers:\n",
        "    layer.trainable = False"
      ],
      "execution_count": 3,
      "outputs": [
        {
          "output_type": "stream",
          "name": "stdout",
          "text": [
            "Downloading data from https://storage.googleapis.com/tensorflow/keras-applications/vgg16/vgg16_weights_tf_dim_ordering_tf_kernels_notop.h5\n",
            "58892288/58889256 [==============================] - 0s 0us/step\n",
            "58900480/58889256 [==============================] - 0s 0us/step\n"
          ]
        }
      ]
    },
    {
      "cell_type": "code",
      "source": [
        "print(model.summary())"
      ],
      "metadata": {
        "colab": {
          "base_uri": "https://localhost:8080/"
        },
        "id": "3C799rr8PMtE",
        "outputId": "472af821-ef0d-4a4e-8303-937bbab2fcc6"
      },
      "execution_count": 4,
      "outputs": [
        {
          "output_type": "stream",
          "name": "stdout",
          "text": [
            "Model: \"model\"\n",
            "_________________________________________________________________\n",
            " Layer (type)                Output Shape              Param #   \n",
            "=================================================================\n",
            " input_1 (InputLayer)        [(None, 224, 224, 3)]     0         \n",
            "                                                                 \n",
            " block1_conv1 (Conv2D)       (None, 224, 224, 64)      1792      \n",
            "                                                                 \n",
            " block1_conv2 (Conv2D)       (None, 224, 224, 64)      36928     \n",
            "                                                                 \n",
            " block1_pool (MaxPooling2D)  (None, 112, 112, 64)      0         \n",
            "                                                                 \n",
            " block2_conv1 (Conv2D)       (None, 112, 112, 128)     73856     \n",
            "                                                                 \n",
            " block2_conv2 (Conv2D)       (None, 112, 112, 128)     147584    \n",
            "                                                                 \n",
            " block2_pool (MaxPooling2D)  (None, 56, 56, 128)       0         \n",
            "                                                                 \n",
            " block3_conv1 (Conv2D)       (None, 56, 56, 256)       295168    \n",
            "                                                                 \n",
            " block3_conv2 (Conv2D)       (None, 56, 56, 256)       590080    \n",
            "                                                                 \n",
            " block3_conv3 (Conv2D)       (None, 56, 56, 256)       590080    \n",
            "                                                                 \n",
            " block3_pool (MaxPooling2D)  (None, 28, 28, 256)       0         \n",
            "                                                                 \n",
            " block4_conv1 (Conv2D)       (None, 28, 28, 512)       1180160   \n",
            "                                                                 \n",
            " block4_conv2 (Conv2D)       (None, 28, 28, 512)       2359808   \n",
            "                                                                 \n",
            " block4_conv3 (Conv2D)       (None, 28, 28, 512)       2359808   \n",
            "                                                                 \n",
            " block4_pool (MaxPooling2D)  (None, 14, 14, 512)       0         \n",
            "                                                                 \n",
            " block5_conv1 (Conv2D)       (None, 14, 14, 512)       2359808   \n",
            "                                                                 \n",
            " block5_conv2 (Conv2D)       (None, 14, 14, 512)       2359808   \n",
            "                                                                 \n",
            " block5_conv3 (Conv2D)       (None, 14, 14, 512)       2359808   \n",
            "                                                                 \n",
            " block5_pool (MaxPooling2D)  (None, 7, 7, 512)         0         \n",
            "                                                                 \n",
            " average_pooling2d (AverageP  (None, 1, 1, 512)        0         \n",
            " ooling2D)                                                       \n",
            "                                                                 \n",
            " flatten (Flatten)           (None, 512)               0         \n",
            "                                                                 \n",
            " dense (Dense)               (None, 128)               65664     \n",
            "                                                                 \n",
            " dropout (Dropout)           (None, 128)               0         \n",
            "                                                                 \n",
            " dense_1 (Dense)             (None, 2)                 258       \n",
            "                                                                 \n",
            "=================================================================\n",
            "Total params: 14,780,610\n",
            "Trainable params: 65,922\n",
            "Non-trainable params: 14,714,688\n",
            "_________________________________________________________________\n",
            "None\n"
          ]
        }
      ]
    },
    {
      "cell_type": "code",
      "metadata": {
        "id": "lvjiJemOb60U",
        "colab": {
          "base_uri": "https://localhost:8080/"
        },
        "outputId": "a498827b-11aa-4229-c17e-43ae7fbf4efd"
      },
      "source": [
        "rescale = 1./255\n",
        "target_size = (224, 224)\n",
        "batch_size = 32\n",
        "class_mode = \"categorical\"\n",
        "\n",
        "\n",
        "train_datagen = ImageDataGenerator(\n",
        "    rescale=rescale,\n",
        "    shear_range=0.2,\n",
        "    zoom_range=0.2,\n",
        "    horizontal_flip=True)\n",
        "train_generator = train_datagen.flow_from_directory('gdrive/My Drive/Face Mask Dataset/Train/',\n",
        "    target_size=target_size,\n",
        "    class_mode=class_mode,\n",
        "    batch_size=batch_size,\n",
        "    shuffle=True)\n",
        "\n",
        "validation_datagen = ImageDataGenerator(rescale=rescale)\n",
        "validation_generator = validation_datagen.flow_from_directory('gdrive/My Drive/Face Mask Dataset/Test/',\n",
        "    target_size=target_size,\n",
        "    class_mode=class_mode,\n",
        "    batch_size=batch_size,\n",
        "    shuffle = False)\n",
        "\n"
      ],
      "execution_count": 5,
      "outputs": [
        {
          "output_type": "stream",
          "name": "stdout",
          "text": [
            "Found 10000 images belonging to 2 classes.\n",
            "Found 992 images belonging to 2 classes.\n"
          ]
        }
      ]
    },
    {
      "cell_type": "code",
      "source": [
        "steps_per_epoch=len(train_generator)\n",
        "validation_steps=len(validation_generator)\n",
        "loss='categorical_crossentropy'\n",
        "metrics=['accuracy']\n",
        "epochs = 1\n",
        "\n",
        "opt = Adam(lr=1e-3, decay=1e-3 / 10)\n",
        "model.compile(optimizer=opt, loss=loss, metrics=metrics)\n",
        "\n",
        "history = model.fit_generator(\n",
        "    train_generator,\n",
        "    steps_per_epoch = steps_per_epoch,\n",
        "    epochs=epochs,\n",
        "    verbose=1,\n",
        "  #  callbacks=callbacks,\n",
        "    validation_data=validation_generator,\n",
        "    validation_steps=validation_steps \n",
        " #   class_weight=class_weight\n",
        "    )"
      ],
      "metadata": {
        "colab": {
          "base_uri": "https://localhost:8080/"
        },
        "id": "WIWpzvA9PSwT",
        "outputId": "9174f0eb-fd56-4241-d564-6c9cd372acdf"
      },
      "execution_count": 6,
      "outputs": [
        {
          "output_type": "stream",
          "name": "stderr",
          "text": [
            "/usr/local/lib/python3.7/dist-packages/keras/optimizer_v2/adam.py:105: UserWarning: The `lr` argument is deprecated, use `learning_rate` instead.\n",
            "  super(Adam, self).__init__(name, **kwargs)\n",
            "/usr/local/lib/python3.7/dist-packages/ipykernel_launcher.py:17: UserWarning: `Model.fit_generator` is deprecated and will be removed in a future version. Please use `Model.fit`, which supports generators.\n"
          ]
        },
        {
          "output_type": "stream",
          "name": "stdout",
          "text": [
            "313/313 [==============================] - 1324s 4s/step - loss: 0.2114 - accuracy: 0.9176 - val_loss: 0.0736 - val_accuracy: 0.9768\n"
          ]
        }
      ]
    },
    {
      "cell_type": "code",
      "metadata": {
        "id": "6DfOBDN7_qPK",
        "colab": {
          "base_uri": "https://localhost:8080/"
        },
        "outputId": "f036cb33-2cd8-4dee-ad2e-293cd3acec0b"
      },
      "source": [
        "from sklearn.metrics import precision_score, recall_score, f1_score, classification_report\n",
        "\n",
        "print(\"results for training\")\n",
        "result  = model.evaluate_generator(train_generator, verbose=1)\n",
        "print(\"%s%.2f  \"% (\"Loss     : \", result[0]))\n",
        "print(\"%s%.2f%s\"% (\"Accuracy : \", result[1]*100, \"%\"))\n",
        "classes = os.listdir('gdrive/My Drive/Face Mask Dataset/Train/')\n",
        "\n",
        "\n",
        "print(\"results for test\")\n",
        "result  = model.evaluate_generator(validation_generator, steps=len(validation_generator), verbose=1)\n",
        "print(\"%s%.2f  \"% (\"Loss     : \", result[0]))\n",
        "print(\"%s%.2f%s\"% (\"Accuracy : \", result[1]*100, \"%\"))\n",
        "print(\"results for test prediction\")\n",
        "\n",
        "\n"
      ],
      "execution_count": 8,
      "outputs": [
        {
          "output_type": "stream",
          "name": "stdout",
          "text": [
            "results for training\n"
          ]
        },
        {
          "output_type": "stream",
          "name": "stderr",
          "text": [
            "/usr/local/lib/python3.7/dist-packages/ipykernel_launcher.py:4: UserWarning: `Model.evaluate_generator` is deprecated and will be removed in a future version. Please use `Model.evaluate`, which supports generators.\n",
            "  after removing the cwd from sys.path.\n"
          ]
        },
        {
          "output_type": "stream",
          "name": "stdout",
          "text": [
            "313/313 [==============================] - 137s 437ms/step - loss: 0.0887 - accuracy: 0.9695\n",
            "Loss     : 0.09  \n",
            "Accuracy : 96.95%\n",
            "results for test\n"
          ]
        },
        {
          "output_type": "stream",
          "name": "stderr",
          "text": [
            "/usr/local/lib/python3.7/dist-packages/ipykernel_launcher.py:11: UserWarning: `Model.evaluate_generator` is deprecated and will be removed in a future version. Please use `Model.evaluate`, which supports generators.\n",
            "  # This is added back by InteractiveShellApp.init_path()\n"
          ]
        },
        {
          "output_type": "stream",
          "name": "stdout",
          "text": [
            "31/31 [==============================] - 5s 156ms/step - loss: 0.0736 - accuracy: 0.9768\n",
            "Loss     : 0.07  \n",
            "Accuracy : 97.68%\n",
            "results for test prediction\n"
          ]
        }
      ]
    },
    {
      "cell_type": "code",
      "source": [
        "y_pred = model.predict_generator(validation_generator, steps=len(validation_generator), verbose=1)  \n",
        "y_pred = y_pred.argmax(axis=-1)\n",
        "y_true=validation_generator.classes\n",
        "precision = precision_score(y_true, y_pred) \n",
        "recall = recall_score(y_true, y_pred) \n",
        "f1 = f1_score(y_true, y_pred) \n",
        "print(\"-\"*90)\n",
        "print(\"Derived Report\")\n",
        "print(\"-\"*90)\n",
        "print(\"%s%.2f%s\"% (\"Precision     : \", precision*100, \"%\"))\n",
        "print(\"%s%.2f%s\"% (\"Recall        : \", recall*100,    \"%\"))\n",
        "print(\"%s%.2f%s\"% (\"F1-Score      : \", f1*100,        \"%\"))\n",
        "print(\"-\"*90)\n",
        "print(\"\\n\\n\")\n"
      ],
      "metadata": {
        "colab": {
          "base_uri": "https://localhost:8080/"
        },
        "id": "JgpGRGumSDqU",
        "outputId": "c558518a-9979-47f9-eff6-03da924d4637"
      },
      "execution_count": 9,
      "outputs": [
        {
          "output_type": "stream",
          "name": "stderr",
          "text": [
            "/usr/local/lib/python3.7/dist-packages/ipykernel_launcher.py:1: UserWarning: `Model.predict_generator` is deprecated and will be removed in a future version. Please use `Model.predict`, which supports generators.\n",
            "  \"\"\"Entry point for launching an IPython kernel.\n"
          ]
        },
        {
          "output_type": "stream",
          "name": "stdout",
          "text": [
            "31/31 [==============================] - 5s 150ms/step\n",
            "------------------------------------------------------------------------------------------\n",
            "Derived Report\n",
            "------------------------------------------------------------------------------------------\n",
            "Precision     : 97.28%\n",
            "Recall        : 98.23%\n",
            "F1-Score      : 97.75%\n",
            "------------------------------------------------------------------------------------------\n",
            "\n",
            "\n",
            "\n"
          ]
        }
      ]
    }
  ]
}